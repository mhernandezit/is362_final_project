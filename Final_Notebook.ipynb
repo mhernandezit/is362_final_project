{
 "cells": [
  {
   "cell_type": "markdown",
   "metadata": {},
   "source": [
    "# IS362 Final Project\n",
    "Michael Hernandez\n",
    "\n",
    "Timothy Lynch"
   ]
  },
  {
   "cell_type": "markdown",
   "metadata": {},
   "source": []
  },
  {
   "cell_type": "code",
   "execution_count": 1,
   "metadata": {},
   "outputs": [],
   "source": [
    "import pandas as pd\n",
    "import requests\n",
    "import numpy as np\n",
    "from bs4 import BeautifulSoup\n",
    "from matplotlib import pyplot as plt\n",
    "%matplotlib inline\n",
    "\n",
    "#The CSV data is found at https://catalog.data.gov *For full link refer to discussion post*\n",
    "csv_data = pd.read_csv('csv_data.csv')\n",
    "\n",
    "# For the HTML Data we used BeautifulSoup to pull the data\n",
    "res = requests.get(\"https://www.cdc.gov/nchs/pressroom/states/newyork/newyork.htm\")\n",
    "soup = BeautifulSoup(res.content,'lxml')\n",
    "table = soup.find_all('table')\n",
    "# this builds a list of tables\n",
    "df = pd.read_html(str(table))\n",
    "\n",
    "# The final row in the table is not data I want (it's a subtitle), so I'll loop through the tables and delete that row\n",
    "# Some extra cleanup - eliminated the numeric indexes from the labels using regex\n",
    "\n",
    "for dataframe in df:\n",
    "    dataframe.drop(dataframe.tail(1).index,inplace=True)\n",
    "    dataframe.iloc[:,0] = dataframe.iloc[:,0].str.replace('\\d+\\.', '')\n",
    "    dataframe.rename(columns={ dataframe.columns[0]: \"Cause Name\", dataframe.columns[2]: \"Rate\" }, inplace=True)\n",
    "    \n",
    "\n",
    "# Next I want to create the data frames from the list of data frames we created.  \n",
    "# I'll pull the data using their index locations, we'll add in the Year column\n",
    "\n",
    "frames = [df[1], df[5], df[9], df[13]]\n",
    "\n",
    "# To make it clearer/easier to verify data, I'm building out descriptive dataframe names:\n",
    "\n",
    "ny_death_data_2017 = frames[0]\n",
    "ny_death_data_2016 = frames[1]\n",
    "ny_death_data_2015 = frames[2]\n",
    "ny_death_data_2014 = frames[3]\n"
   ]
  },
  {
   "cell_type": "markdown",
   "metadata": {},
   "source": [
    "# We will start our analysis with the csv data"
   ]
  },
  {
   "cell_type": "code",
   "execution_count": 2,
   "metadata": {},
   "outputs": [
    {
     "data": {
      "text/html": [
       "<div>\n",
       "<style scoped>\n",
       "    .dataframe tbody tr th:only-of-type {\n",
       "        vertical-align: middle;\n",
       "    }\n",
       "\n",
       "    .dataframe tbody tr th {\n",
       "        vertical-align: top;\n",
       "    }\n",
       "\n",
       "    .dataframe thead th {\n",
       "        text-align: right;\n",
       "    }\n",
       "</style>\n",
       "<table border=\"1\" class=\"dataframe\">\n",
       "  <thead>\n",
       "    <tr style=\"text-align: right;\">\n",
       "      <th></th>\n",
       "      <th>Year</th>\n",
       "      <th>113 Cause Name</th>\n",
       "      <th>Cause Name</th>\n",
       "      <th>State</th>\n",
       "      <th>Deaths</th>\n",
       "      <th>Age-adjusted Death Rate</th>\n",
       "    </tr>\n",
       "  </thead>\n",
       "  <tbody>\n",
       "    <tr>\n",
       "      <th>0</th>\n",
       "      <td>2012</td>\n",
       "      <td>Nephritis, nephrotic syndrome and nephrosis (N...</td>\n",
       "      <td>Kidney disease</td>\n",
       "      <td>Vermont</td>\n",
       "      <td>21</td>\n",
       "      <td>2.6</td>\n",
       "    </tr>\n",
       "    <tr>\n",
       "      <th>1</th>\n",
       "      <td>2016</td>\n",
       "      <td>Nephritis, nephrotic syndrome and nephrosis (N...</td>\n",
       "      <td>Kidney disease</td>\n",
       "      <td>Vermont</td>\n",
       "      <td>30</td>\n",
       "      <td>3.7</td>\n",
       "    </tr>\n",
       "    <tr>\n",
       "      <th>2</th>\n",
       "      <td>2013</td>\n",
       "      <td>Nephritis, nephrotic syndrome and nephrosis (N...</td>\n",
       "      <td>Kidney disease</td>\n",
       "      <td>Vermont</td>\n",
       "      <td>30</td>\n",
       "      <td>3.8</td>\n",
       "    </tr>\n",
       "    <tr>\n",
       "      <th>3</th>\n",
       "      <td>2000</td>\n",
       "      <td>Intentional self-harm (suicide) (*U03,X60-X84,...</td>\n",
       "      <td>Suicide</td>\n",
       "      <td>District of Columbia</td>\n",
       "      <td>23</td>\n",
       "      <td>3.8</td>\n",
       "    </tr>\n",
       "    <tr>\n",
       "      <th>4</th>\n",
       "      <td>2014</td>\n",
       "      <td>Nephritis, nephrotic syndrome and nephrosis (N...</td>\n",
       "      <td>Kidney disease</td>\n",
       "      <td>Arizona</td>\n",
       "      <td>325</td>\n",
       "      <td>4.1</td>\n",
       "    </tr>\n",
       "  </tbody>\n",
       "</table>\n",
       "</div>"
      ],
      "text/plain": [
       "   Year                                     113 Cause Name      Cause Name  \\\n",
       "0  2012  Nephritis, nephrotic syndrome and nephrosis (N...  Kidney disease   \n",
       "1  2016  Nephritis, nephrotic syndrome and nephrosis (N...  Kidney disease   \n",
       "2  2013  Nephritis, nephrotic syndrome and nephrosis (N...  Kidney disease   \n",
       "3  2000  Intentional self-harm (suicide) (*U03,X60-X84,...         Suicide   \n",
       "4  2014  Nephritis, nephrotic syndrome and nephrosis (N...  Kidney disease   \n",
       "\n",
       "                  State  Deaths  Age-adjusted Death Rate  \n",
       "0               Vermont      21                      2.6  \n",
       "1               Vermont      30                      3.7  \n",
       "2               Vermont      30                      3.8  \n",
       "3  District of Columbia      23                      3.8  \n",
       "4               Arizona     325                      4.1  "
      ]
     },
     "execution_count": 2,
     "metadata": {},
     "output_type": "execute_result"
    }
   ],
   "source": [
    "csv_data.head(5)"
   ]
  },
  {
   "cell_type": "markdown",
   "metadata": {},
   "source": [
    "# For the most part we aren't interested in a few of these columns in the csv dataset. At least not yet. So we will be cleaning up the data.\n",
    "\n",
    "We will start by dropping a few of the columns. Mainly the \"113 Cause Name\" and \"Age-adjusted Death Rate\""
   ]
  },
  {
   "cell_type": "code",
   "execution_count": 3,
   "metadata": {},
   "outputs": [],
   "source": [
    "csv_data.drop(['113 Cause Name', 'Age-adjusted Death Rate'], axis = 1, inplace = True)"
   ]
  },
  {
   "cell_type": "markdown",
   "metadata": {},
   "source": [
    "Next we'll create two dataframes, one with aggregate death data, and the other with suicide data.  We'll also add another dataframe that analyzes aggregate and suicide data in New York - this will be useful for intra-data comparisons later on."
   ]
  },
  {
   "cell_type": "code",
   "execution_count": 4,
   "metadata": {},
   "outputs": [],
   "source": [
    "agg_data = csv_data[csv_data['Cause Name'].str.contains(\"All causes\")]\n",
    "suc_data = csv_data[csv_data['Cause Name'].str.contains('Suicide')]"
   ]
  },
  {
   "cell_type": "code",
   "execution_count": 5,
   "metadata": {},
   "outputs": [
    {
     "data": {
      "text/html": [
       "<div>\n",
       "<style scoped>\n",
       "    .dataframe tbody tr th:only-of-type {\n",
       "        vertical-align: middle;\n",
       "    }\n",
       "\n",
       "    .dataframe tbody tr th {\n",
       "        vertical-align: top;\n",
       "    }\n",
       "\n",
       "    .dataframe thead th {\n",
       "        text-align: right;\n",
       "    }\n",
       "</style>\n",
       "<table border=\"1\" class=\"dataframe\">\n",
       "  <thead>\n",
       "    <tr style=\"text-align: right;\">\n",
       "      <th></th>\n",
       "      <th>Year</th>\n",
       "      <th>Cause Name</th>\n",
       "      <th>State</th>\n",
       "      <th>Deaths</th>\n",
       "    </tr>\n",
       "  </thead>\n",
       "  <tbody>\n",
       "    <tr>\n",
       "      <th>9360</th>\n",
       "      <td>2016</td>\n",
       "      <td>All causes</td>\n",
       "      <td>Hawaii</td>\n",
       "      <td>10913</td>\n",
       "    </tr>\n",
       "    <tr>\n",
       "      <th>9361</th>\n",
       "      <td>2011</td>\n",
       "      <td>All causes</td>\n",
       "      <td>Hawaii</td>\n",
       "      <td>9923</td>\n",
       "    </tr>\n",
       "    <tr>\n",
       "      <th>9362</th>\n",
       "      <td>2012</td>\n",
       "      <td>All causes</td>\n",
       "      <td>Hawaii</td>\n",
       "      <td>10274</td>\n",
       "    </tr>\n",
       "    <tr>\n",
       "      <th>9363</th>\n",
       "      <td>2015</td>\n",
       "      <td>All causes</td>\n",
       "      <td>Hawaii</td>\n",
       "      <td>11053</td>\n",
       "    </tr>\n",
       "    <tr>\n",
       "      <th>9364</th>\n",
       "      <td>2014</td>\n",
       "      <td>All causes</td>\n",
       "      <td>Hawaii</td>\n",
       "      <td>10767</td>\n",
       "    </tr>\n",
       "  </tbody>\n",
       "</table>\n",
       "</div>"
      ],
      "text/plain": [
       "      Year  Cause Name   State  Deaths\n",
       "9360  2016  All causes  Hawaii   10913\n",
       "9361  2011  All causes  Hawaii    9923\n",
       "9362  2012  All causes  Hawaii   10274\n",
       "9363  2015  All causes  Hawaii   11053\n",
       "9364  2014  All causes  Hawaii   10767"
      ]
     },
     "execution_count": 5,
     "metadata": {},
     "output_type": "execute_result"
    }
   ],
   "source": [
    "agg_data.head(5)"
   ]
  },
  {
   "cell_type": "code",
   "execution_count": 6,
   "metadata": {},
   "outputs": [],
   "source": [
    "suc_ny_data = suc_data[suc_data['State'].str.contains(\"New York\")]"
   ]
  },
  {
   "cell_type": "code",
   "execution_count": 7,
   "metadata": {},
   "outputs": [
    {
     "data": {
      "image/png": "[encoded data removed]",
      "text/plain": [
       "<Figure size 432x288 with 1 Axes>"
      ]
     },
     "metadata": {
      "needs_background": "light"
     },
     "output_type": "display_data"
    }
   ],
   "source": [
    "f = plt.figure()\n",
    "plt.title('Suicides per Year in New York', color='black')\n",
    "suc_ny_data.sort_values(by=['Year']).plot(kind='bar', x=\"Year\", y=\"Deaths\", ax=f.gca())\n",
    "plt.legend(loc='center left', bbox_to_anchor=(1, 0.5))\n",
    "plt.show()"
   ]
  },
  {
   "cell_type": "markdown",
   "metadata": {},
   "source": [
    "# Suicides in New York have been increasing steadily since the early 2000s"
   ]
  },
  {
   "cell_type": "markdown",
   "metadata": {},
   "source": [
    "# The HTML dataset "
   ]
  },
  {
   "cell_type": "code",
   "execution_count": 8,
   "metadata": {},
   "outputs": [
    {
     "data": {
      "text/html": [
       "<div>\n",
       "<style scoped>\n",
       "    .dataframe tbody tr th:only-of-type {\n",
       "        vertical-align: middle;\n",
       "    }\n",
       "\n",
       "    .dataframe tbody tr th {\n",
       "        vertical-align: top;\n",
       "    }\n",
       "\n",
       "    .dataframe thead th {\n",
       "        text-align: right;\n",
       "    }\n",
       "</style>\n",
       "<table border=\"1\" class=\"dataframe\">\n",
       "  <thead>\n",
       "    <tr style=\"text-align: right;\">\n",
       "      <th></th>\n",
       "      <th>Cause Name</th>\n",
       "      <th>Deaths</th>\n",
       "      <th>Rate</th>\n",
       "      <th>State Rank*</th>\n",
       "      <th>U.S. Rate**</th>\n",
       "    </tr>\n",
       "  </thead>\n",
       "  <tbody>\n",
       "    <tr>\n",
       "      <th>0</th>\n",
       "      <td>Heart Disease</td>\n",
       "      <td>44092</td>\n",
       "      <td>171.2</td>\n",
       "      <td>17th</td>\n",
       "      <td>165.0</td>\n",
       "    </tr>\n",
       "    <tr>\n",
       "      <th>1</th>\n",
       "      <td>Cancer</td>\n",
       "      <td>34956</td>\n",
       "      <td>141.2</td>\n",
       "      <td>41st</td>\n",
       "      <td>152.5</td>\n",
       "    </tr>\n",
       "    <tr>\n",
       "      <th>2</th>\n",
       "      <td>Accidents</td>\n",
       "      <td>7687</td>\n",
       "      <td>35.5</td>\n",
       "      <td>49th</td>\n",
       "      <td>49.4</td>\n",
       "    </tr>\n",
       "    <tr>\n",
       "      <th>3</th>\n",
       "      <td>Chronic Lower Respiratory Diseases</td>\n",
       "      <td>7258</td>\n",
       "      <td>28.9</td>\n",
       "      <td>48th</td>\n",
       "      <td>40.9</td>\n",
       "    </tr>\n",
       "    <tr>\n",
       "      <th>4</th>\n",
       "      <td>Stroke</td>\n",
       "      <td>6264</td>\n",
       "      <td>24.6</td>\n",
       "      <td>50th</td>\n",
       "      <td>37.6</td>\n",
       "    </tr>\n",
       "  </tbody>\n",
       "</table>\n",
       "</div>"
      ],
      "text/plain": [
       "                            Cause Name Deaths   Rate State Rank*  U.S. Rate**\n",
       "0                        Heart Disease  44092  171.2        17th        165.0\n",
       "1                               Cancer  34956  141.2        41st        152.5\n",
       "2                            Accidents   7687   35.5        49th         49.4\n",
       "3   Chronic Lower Respiratory Diseases   7258   28.9        48th         40.9\n",
       "4                               Stroke   6264   24.6        50th         37.6"
      ]
     },
     "execution_count": 8,
     "metadata": {},
     "output_type": "execute_result"
    }
   ],
   "source": [
    "ny_death_data_2017.head(5)"
   ]
  },
  {
   "cell_type": "markdown",
   "metadata": {},
   "source": [
    "I'd like to remove the cells that do not match the CSV data, so let's drop them from all of our dataframes:"
   ]
  },
  {
   "cell_type": "code",
   "execution_count": 9,
   "metadata": {},
   "outputs": [
    {
     "data": {
      "text/html": [
       "<div>\n",
       "<style scoped>\n",
       "    .dataframe tbody tr th:only-of-type {\n",
       "        vertical-align: middle;\n",
       "    }\n",
       "\n",
       "    .dataframe tbody tr th {\n",
       "        vertical-align: top;\n",
       "    }\n",
       "\n",
       "    .dataframe thead th {\n",
       "        text-align: right;\n",
       "    }\n",
       "</style>\n",
       "<table border=\"1\" class=\"dataframe\">\n",
       "  <thead>\n",
       "    <tr style=\"text-align: right;\">\n",
       "      <th></th>\n",
       "      <th>Cause Name</th>\n",
       "      <th>Deaths</th>\n",
       "    </tr>\n",
       "  </thead>\n",
       "  <tbody>\n",
       "    <tr>\n",
       "      <th>0</th>\n",
       "      <td>Heart Disease</td>\n",
       "      <td>44092</td>\n",
       "    </tr>\n",
       "    <tr>\n",
       "      <th>1</th>\n",
       "      <td>Cancer</td>\n",
       "      <td>34956</td>\n",
       "    </tr>\n",
       "    <tr>\n",
       "      <th>2</th>\n",
       "      <td>Accidents</td>\n",
       "      <td>7687</td>\n",
       "    </tr>\n",
       "    <tr>\n",
       "      <th>3</th>\n",
       "      <td>Chronic Lower Respiratory Diseases</td>\n",
       "      <td>7258</td>\n",
       "    </tr>\n",
       "    <tr>\n",
       "      <th>4</th>\n",
       "      <td>Stroke</td>\n",
       "      <td>6264</td>\n",
       "    </tr>\n",
       "  </tbody>\n",
       "</table>\n",
       "</div>"
      ],
      "text/plain": [
       "                            Cause Name Deaths\n",
       "0                        Heart Disease  44092\n",
       "1                               Cancer  34956\n",
       "2                            Accidents   7687\n",
       "3   Chronic Lower Respiratory Diseases   7258\n",
       "4                               Stroke   6264"
      ]
     },
     "execution_count": 9,
     "metadata": {},
     "output_type": "execute_result"
    }
   ],
   "source": [
    "for df in frames:\n",
    "    df.drop(['Rate', 'State Rank*', 'U.S. Rate**'], axis=1, inplace=True)\n",
    "ny_death_data_2017.head(5)"
   ]
  },
  {
   "cell_type": "markdown",
   "metadata": {},
   "source": [
    "In order to perform any graphing/comparisons of data, we need our data to be numeric type - running a .dtype on our Deaths column, I found that the data type was an object.  Here I convert the data type to numeric so we can use that death data later on."
   ]
  },
  {
   "cell_type": "code",
   "execution_count": 10,
   "metadata": {},
   "outputs": [
    {
     "data": {
      "text/plain": [
       "dtype('int64')"
      ]
     },
     "execution_count": 10,
     "metadata": {},
     "output_type": "execute_result"
    }
   ],
   "source": [
    "for df in frames:\n",
    "    df[\"Deaths\"] = pd.to_numeric(df[\"Deaths\"])\n",
    "ny_death_data_2015['Deaths'].dtype"
   ]
  },
  {
   "cell_type": "code",
   "execution_count": 11,
   "metadata": {},
   "outputs": [
    {
     "data": {
      "text/html": [
       "<div>\n",
       "<style scoped>\n",
       "    .dataframe tbody tr th:only-of-type {\n",
       "        vertical-align: middle;\n",
       "    }\n",
       "\n",
       "    .dataframe tbody tr th {\n",
       "        vertical-align: top;\n",
       "    }\n",
       "\n",
       "    .dataframe thead th {\n",
       "        text-align: right;\n",
       "    }\n",
       "</style>\n",
       "<table border=\"1\" class=\"dataframe\">\n",
       "  <thead>\n",
       "    <tr style=\"text-align: right;\">\n",
       "      <th></th>\n",
       "      <th>Cause Name</th>\n",
       "      <th>Deaths</th>\n",
       "      <th>Year</th>\n",
       "    </tr>\n",
       "  </thead>\n",
       "  <tbody>\n",
       "    <tr>\n",
       "      <th>0</th>\n",
       "      <td>Heart Disease</td>\n",
       "      <td>44092</td>\n",
       "      <td>2017</td>\n",
       "    </tr>\n",
       "    <tr>\n",
       "      <th>1</th>\n",
       "      <td>Cancer</td>\n",
       "      <td>34956</td>\n",
       "      <td>2017</td>\n",
       "    </tr>\n",
       "    <tr>\n",
       "      <th>2</th>\n",
       "      <td>Accidents</td>\n",
       "      <td>7687</td>\n",
       "      <td>2017</td>\n",
       "    </tr>\n",
       "    <tr>\n",
       "      <th>3</th>\n",
       "      <td>Chronic Lower Respiratory Diseases</td>\n",
       "      <td>7258</td>\n",
       "      <td>2017</td>\n",
       "    </tr>\n",
       "    <tr>\n",
       "      <th>4</th>\n",
       "      <td>Stroke</td>\n",
       "      <td>6264</td>\n",
       "      <td>2017</td>\n",
       "    </tr>\n",
       "  </tbody>\n",
       "</table>\n",
       "</div>"
      ],
      "text/plain": [
       "                            Cause Name  Deaths  Year\n",
       "0                        Heart Disease   44092  2017\n",
       "1                               Cancer   34956  2017\n",
       "2                            Accidents    7687  2017\n",
       "3   Chronic Lower Respiratory Diseases    7258  2017\n",
       "4                               Stroke    6264  2017"
      ]
     },
     "execution_count": 11,
     "metadata": {},
     "output_type": "execute_result"
    }
   ],
   "source": [
    "frames[0]['Year'] = 2017\n",
    "frames[1]['Year'] = 2016\n",
    "frames[2]['Year'] = 2015\n",
    "frames[3]['Year'] = 2014\n",
    "ny_death_data_2017.head(5)"
   ]
  },
  {
   "cell_type": "code",
   "execution_count": 12,
   "metadata": {},
   "outputs": [
    {
     "data": {
      "text/html": [
       "<div>\n",
       "<style scoped>\n",
       "    .dataframe tbody tr th:only-of-type {\n",
       "        vertical-align: middle;\n",
       "    }\n",
       "\n",
       "    .dataframe tbody tr th {\n",
       "        vertical-align: top;\n",
       "    }\n",
       "\n",
       "    .dataframe thead th {\n",
       "        text-align: right;\n",
       "    }\n",
       "</style>\n",
       "<table border=\"1\" class=\"dataframe\">\n",
       "  <thead>\n",
       "    <tr style=\"text-align: right;\">\n",
       "      <th></th>\n",
       "      <th>Cause Name</th>\n",
       "      <th>Deaths</th>\n",
       "      <th>Year</th>\n",
       "    </tr>\n",
       "  </thead>\n",
       "  <tbody>\n",
       "    <tr>\n",
       "      <th>0</th>\n",
       "      <td>Heart Disease</td>\n",
       "      <td>44092</td>\n",
       "      <td>2017</td>\n",
       "    </tr>\n",
       "    <tr>\n",
       "      <th>1</th>\n",
       "      <td>Cancer</td>\n",
       "      <td>34956</td>\n",
       "      <td>2017</td>\n",
       "    </tr>\n",
       "    <tr>\n",
       "      <th>2</th>\n",
       "      <td>Accidents</td>\n",
       "      <td>7687</td>\n",
       "      <td>2017</td>\n",
       "    </tr>\n",
       "    <tr>\n",
       "      <th>3</th>\n",
       "      <td>Chronic Lower Respiratory Disease</td>\n",
       "      <td>7258</td>\n",
       "      <td>2017</td>\n",
       "    </tr>\n",
       "    <tr>\n",
       "      <th>4</th>\n",
       "      <td>Stroke</td>\n",
       "      <td>6264</td>\n",
       "      <td>2017</td>\n",
       "    </tr>\n",
       "  </tbody>\n",
       "</table>\n",
       "</div>"
      ],
      "text/plain": [
       "                           Cause Name  Deaths  Year\n",
       "0                       Heart Disease   44092  2017\n",
       "1                              Cancer   34956  2017\n",
       "2                           Accidents    7687  2017\n",
       "3   Chronic Lower Respiratory Disease    7258  2017\n",
       "4                              Stroke    6264  2017"
      ]
     },
     "execution_count": 12,
     "metadata": {},
     "output_type": "execute_result"
    }
   ],
   "source": [
    "for df in frames:\n",
    "    df['Cause Name'] = df['Cause Name'].str.replace('Chronic Lower Respiratory Diseases', 'Chronic Lower Respiratory Disease')\n",
    "ny_death_data_2017.head(5)"
   ]
  },
  {
   "cell_type": "markdown",
   "metadata": {},
   "source": [
    "Now that our data is free of type problems and is in the proper format, I'll combine the list of dataframes into one dataframe with wide data."
   ]
  },
  {
   "cell_type": "code",
   "execution_count": 13,
   "metadata": {
    "scrolled": true
   },
   "outputs": [
    {
     "data": {
      "text/html": [
       "<div>\n",
       "<style scoped>\n",
       "    .dataframe tbody tr th:only-of-type {\n",
       "        vertical-align: middle;\n",
       "    }\n",
       "\n",
       "    .dataframe tbody tr th {\n",
       "        vertical-align: top;\n",
       "    }\n",
       "\n",
       "    .dataframe thead th {\n",
       "        text-align: right;\n",
       "    }\n",
       "</style>\n",
       "<table border=\"1\" class=\"dataframe\">\n",
       "  <thead>\n",
       "    <tr style=\"text-align: right;\">\n",
       "      <th></th>\n",
       "      <th>Cause Name</th>\n",
       "      <th>Deaths</th>\n",
       "      <th>Year</th>\n",
       "    </tr>\n",
       "  </thead>\n",
       "  <tbody>\n",
       "    <tr>\n",
       "      <th>0</th>\n",
       "      <td>Heart Disease</td>\n",
       "      <td>44092</td>\n",
       "      <td>2017</td>\n",
       "    </tr>\n",
       "    <tr>\n",
       "      <th>1</th>\n",
       "      <td>Cancer</td>\n",
       "      <td>34956</td>\n",
       "      <td>2017</td>\n",
       "    </tr>\n",
       "    <tr>\n",
       "      <th>2</th>\n",
       "      <td>Accidents</td>\n",
       "      <td>7687</td>\n",
       "      <td>2017</td>\n",
       "    </tr>\n",
       "    <tr>\n",
       "      <th>3</th>\n",
       "      <td>Chronic Lower Respiratory Disease</td>\n",
       "      <td>7258</td>\n",
       "      <td>2017</td>\n",
       "    </tr>\n",
       "    <tr>\n",
       "      <th>4</th>\n",
       "      <td>Stroke</td>\n",
       "      <td>6264</td>\n",
       "      <td>2017</td>\n",
       "    </tr>\n",
       "  </tbody>\n",
       "</table>\n",
       "</div>"
      ],
      "text/plain": [
       "                           Cause Name  Deaths  Year\n",
       "0                       Heart Disease   44092  2017\n",
       "1                              Cancer   34956  2017\n",
       "2                           Accidents    7687  2017\n",
       "3   Chronic Lower Respiratory Disease    7258  2017\n",
       "4                              Stroke    6264  2017"
      ]
     },
     "execution_count": 13,
     "metadata": {},
     "output_type": "execute_result"
    }
   ],
   "source": [
    "result = pd.concat(frames)\n",
    "result.head(5)"
   ]
  },
  {
   "cell_type": "markdown",
   "metadata": {},
   "source": [
    "Let's do some data exploration - first I'll look to compare all death types by year, we'll do a pivot table to get a list of deaths per year so we can graph out the top 10 causes of death by year."
   ]
  },
  {
   "cell_type": "code",
   "execution_count": 14,
   "metadata": {},
   "outputs": [
    {
     "data": {
      "text/html": [
       "<div>\n",
       "<style scoped>\n",
       "    .dataframe tbody tr th:only-of-type {\n",
       "        vertical-align: middle;\n",
       "    }\n",
       "\n",
       "    .dataframe tbody tr th {\n",
       "        vertical-align: top;\n",
       "    }\n",
       "\n",
       "    .dataframe thead th {\n",
       "        text-align: right;\n",
       "    }\n",
       "</style>\n",
       "<table border=\"1\" class=\"dataframe\">\n",
       "  <thead>\n",
       "    <tr style=\"text-align: right;\">\n",
       "      <th>Cause Name</th>\n",
       "      <th>Accidents</th>\n",
       "      <th>Alzheimer’s disease</th>\n",
       "      <th>Cancer</th>\n",
       "      <th>Chronic Lower Respiratory Disease</th>\n",
       "      <th>Diabetes</th>\n",
       "      <th>Flu/Pneumonia</th>\n",
       "      <th>Heart Disease</th>\n",
       "      <th>Hypertension</th>\n",
       "      <th>Kidney Disease</th>\n",
       "      <th>Septicemia</th>\n",
       "      <th>Stroke</th>\n",
       "    </tr>\n",
       "    <tr>\n",
       "      <th>Year</th>\n",
       "      <th></th>\n",
       "      <th></th>\n",
       "      <th></th>\n",
       "      <th></th>\n",
       "      <th></th>\n",
       "      <th></th>\n",
       "      <th></th>\n",
       "      <th></th>\n",
       "      <th></th>\n",
       "      <th></th>\n",
       "      <th></th>\n",
       "    </tr>\n",
       "  </thead>\n",
       "  <tbody>\n",
       "    <tr>\n",
       "      <th>2014</th>\n",
       "      <td>5945.0</td>\n",
       "      <td>2639.0</td>\n",
       "      <td>35392.0</td>\n",
       "      <td>6806.0</td>\n",
       "      <td>4064.0</td>\n",
       "      <td>4702.0</td>\n",
       "      <td>43116.0</td>\n",
       "      <td>NaN</td>\n",
       "      <td>2207.0</td>\n",
       "      <td>2568.0</td>\n",
       "      <td>6212.0</td>\n",
       "    </tr>\n",
       "    <tr>\n",
       "      <th>2015</th>\n",
       "      <td>6515.0</td>\n",
       "      <td>3174.0</td>\n",
       "      <td>35089.0</td>\n",
       "      <td>7109.0</td>\n",
       "      <td>4045.0</td>\n",
       "      <td>4881.0</td>\n",
       "      <td>44450.0</td>\n",
       "      <td>2287.0</td>\n",
       "      <td>NaN</td>\n",
       "      <td>2601.0</td>\n",
       "      <td>6292.0</td>\n",
       "    </tr>\n",
       "    <tr>\n",
       "      <th>2016</th>\n",
       "      <td>7354.0</td>\n",
       "      <td>3349.0</td>\n",
       "      <td>35368.0</td>\n",
       "      <td>6860.0</td>\n",
       "      <td>4038.0</td>\n",
       "      <td>4513.0</td>\n",
       "      <td>44076.0</td>\n",
       "      <td>2468.0</td>\n",
       "      <td>NaN</td>\n",
       "      <td>2545.0</td>\n",
       "      <td>6258.0</td>\n",
       "    </tr>\n",
       "    <tr>\n",
       "      <th>2017</th>\n",
       "      <td>7687.0</td>\n",
       "      <td>3521.0</td>\n",
       "      <td>34956.0</td>\n",
       "      <td>7258.0</td>\n",
       "      <td>4176.0</td>\n",
       "      <td>4517.0</td>\n",
       "      <td>44092.0</td>\n",
       "      <td>2699.0</td>\n",
       "      <td>NaN</td>\n",
       "      <td>2296.0</td>\n",
       "      <td>6264.0</td>\n",
       "    </tr>\n",
       "  </tbody>\n",
       "</table>\n",
       "</div>"
      ],
      "text/plain": [
       "Cause Name   Accidents   Alzheimer’s disease   Cancer  \\\n",
       "Year                                                    \n",
       "2014            5945.0                2639.0  35392.0   \n",
       "2015            6515.0                3174.0  35089.0   \n",
       "2016            7354.0                3349.0  35368.0   \n",
       "2017            7687.0                3521.0  34956.0   \n",
       "\n",
       "Cause Name   Chronic Lower Respiratory Disease   Diabetes   Flu/Pneumonia  \\\n",
       "Year                                                                        \n",
       "2014                                    6806.0     4064.0          4702.0   \n",
       "2015                                    7109.0     4045.0          4881.0   \n",
       "2016                                    6860.0     4038.0          4513.0   \n",
       "2017                                    7258.0     4176.0          4517.0   \n",
       "\n",
       "Cause Name   Heart Disease   Hypertension   Kidney Disease   Septicemia  \\\n",
       "Year                                                                      \n",
       "2014               43116.0            NaN           2207.0       2568.0   \n",
       "2015               44450.0         2287.0              NaN       2601.0   \n",
       "2016               44076.0         2468.0              NaN       2545.0   \n",
       "2017               44092.0         2699.0              NaN       2296.0   \n",
       "\n",
       "Cause Name   Stroke  \n",
       "Year                 \n",
       "2014         6212.0  \n",
       "2015         6292.0  \n",
       "2016         6258.0  \n",
       "2017         6264.0  "
      ]
     },
     "execution_count": 14,
     "metadata": {},
     "output_type": "execute_result"
    }
   ],
   "source": [
    "graph_data = result.pivot(index='Year', columns='Cause Name', values='Deaths')\n",
    "graph_data"
   ]
  },
  {
   "cell_type": "markdown",
   "metadata": {},
   "source": [
    "And we will plot out that data using Matplotlib"
   ]
  },
  {
   "cell_type": "code",
   "execution_count": 15,
   "metadata": {},
   "outputs": [
    {
     "data": {
      "image/png": "[encoded data removed]",
      "text/plain": [
       "<Figure size 432x288 with 1 Axes>"
      ]
     },
     "metadata": {
      "needs_background": "light"
     },
     "output_type": "display_data"
    }
   ],
   "source": [
    "f = plt.figure()\n",
    "plt.title('Deaths per Year in New York', color='black')\n",
    "graph_data.plot(kind='bar', ax=f.gca())\n",
    "plt.legend(loc='center left', bbox_to_anchor=(1, 0.5))\n",
    "plt.show()"
   ]
  },
  {
   "cell_type": "markdown",
   "metadata": {},
   "source": [
    "That's a big confusing graph, with too much data to reliably read.  Let's limit the data to the top three causes of death per year only.  "
   ]
  },
  {
   "cell_type": "code",
   "execution_count": 16,
   "metadata": {
    "scrolled": true
   },
   "outputs": [
    {
     "data": {
      "text/html": [
       "<div>\n",
       "<style scoped>\n",
       "    .dataframe tbody tr th:only-of-type {\n",
       "        vertical-align: middle;\n",
       "    }\n",
       "\n",
       "    .dataframe tbody tr th {\n",
       "        vertical-align: top;\n",
       "    }\n",
       "\n",
       "    .dataframe thead th {\n",
       "        text-align: right;\n",
       "    }\n",
       "</style>\n",
       "<table border=\"1\" class=\"dataframe\">\n",
       "  <thead>\n",
       "    <tr style=\"text-align: right;\">\n",
       "      <th>Cause Name</th>\n",
       "      <th>Accidents</th>\n",
       "      <th>Cancer</th>\n",
       "      <th>Chronic Lower Respiratory Disease</th>\n",
       "      <th>Heart Disease</th>\n",
       "    </tr>\n",
       "    <tr>\n",
       "      <th>Year</th>\n",
       "      <th></th>\n",
       "      <th></th>\n",
       "      <th></th>\n",
       "      <th></th>\n",
       "    </tr>\n",
       "  </thead>\n",
       "  <tbody>\n",
       "    <tr>\n",
       "      <th>2014</th>\n",
       "      <td>NaN</td>\n",
       "      <td>35392.0</td>\n",
       "      <td>6806.0</td>\n",
       "      <td>43116.0</td>\n",
       "    </tr>\n",
       "    <tr>\n",
       "      <th>2015</th>\n",
       "      <td>NaN</td>\n",
       "      <td>35089.0</td>\n",
       "      <td>7109.0</td>\n",
       "      <td>44450.0</td>\n",
       "    </tr>\n",
       "    <tr>\n",
       "      <th>2016</th>\n",
       "      <td>7354.0</td>\n",
       "      <td>35368.0</td>\n",
       "      <td>NaN</td>\n",
       "      <td>44076.0</td>\n",
       "    </tr>\n",
       "    <tr>\n",
       "      <th>2017</th>\n",
       "      <td>7687.0</td>\n",
       "      <td>34956.0</td>\n",
       "      <td>NaN</td>\n",
       "      <td>44092.0</td>\n",
       "    </tr>\n",
       "  </tbody>\n",
       "</table>\n",
       "</div>"
      ],
      "text/plain": [
       "Cause Name   Accidents   Cancer   Chronic Lower Respiratory Disease  \\\n",
       "Year                                                                  \n",
       "2014               NaN  35392.0                              6806.0   \n",
       "2015               NaN  35089.0                              7109.0   \n",
       "2016            7354.0  35368.0                                 NaN   \n",
       "2017            7687.0  34956.0                                 NaN   \n",
       "\n",
       "Cause Name   Heart Disease  \n",
       "Year                        \n",
       "2014               43116.0  \n",
       "2015               44450.0  \n",
       "2016               44076.0  \n",
       "2017               44092.0  "
      ]
     },
     "execution_count": 16,
     "metadata": {},
     "output_type": "execute_result"
    }
   ],
   "source": [
    "top3_deaths = result.groupby('Year').head(3).pivot(index='Year', columns='Cause Name', values='Deaths')\n",
    "top3_deaths"
   ]
  },
  {
   "cell_type": "code",
   "execution_count": 17,
   "metadata": {},
   "outputs": [
    {
     "data": {
      "image/png": "[encoded data removed]",
      "text/plain": [
       "<Figure size 432x288 with 1 Axes>"
      ]
     },
     "metadata": {
      "needs_background": "light"
     },
     "output_type": "display_data"
    }
   ],
   "source": [
    "f = plt.figure()\n",
    "plt.title('Top Three Deaths per Year in New York', color='black')\n",
    "top3_deaths.plot(kind='bar', ax=f.gca())\n",
    "plt.legend(loc='center left', bbox_to_anchor=(1, 0.5))\n",
    "plt.show()"
   ]
  },
  {
   "cell_type": "markdown",
   "metadata": {},
   "source": [
    "# We can see in this graph that Chronic Lower Respiratory Disease was overtaken by accidents after 2015, possibly due to the population in New York smoking less since the smoking ban.  "
   ]
  },
  {
   "cell_type": "markdown",
   "metadata": {},
   "source": [
    "To demonstrate data comparisons between the two data sets, let's combine data sets.  The csv data set has data from 2000 to 2016, the HTML data has data from 2014 to 2016.  To perform a comparison, we'll need to slice a subset of each dataset which match for the intersecting years.\n",
    "\n",
    "Suicide is not in the top 10 causes of death in New York, let's see what the difference is for the 10th highest cause of death and suicide."
   ]
  },
  {
   "cell_type": "code",
   "execution_count": 18,
   "metadata": {},
   "outputs": [
    {
     "data": {
      "text/html": [
       "<div>\n",
       "<style scoped>\n",
       "    .dataframe tbody tr th:only-of-type {\n",
       "        vertical-align: middle;\n",
       "    }\n",
       "\n",
       "    .dataframe tbody tr th {\n",
       "        vertical-align: top;\n",
       "    }\n",
       "\n",
       "    .dataframe thead th {\n",
       "        text-align: right;\n",
       "    }\n",
       "</style>\n",
       "<table border=\"1\" class=\"dataframe\">\n",
       "  <thead>\n",
       "    <tr style=\"text-align: right;\">\n",
       "      <th></th>\n",
       "      <th>Year</th>\n",
       "      <th>Suicide</th>\n",
       "    </tr>\n",
       "  </thead>\n",
       "  <tbody>\n",
       "    <tr>\n",
       "      <th>187</th>\n",
       "      <td>2014</td>\n",
       "      <td>1700</td>\n",
       "    </tr>\n",
       "    <tr>\n",
       "      <th>157</th>\n",
       "      <td>2015</td>\n",
       "      <td>1652</td>\n",
       "    </tr>\n",
       "    <tr>\n",
       "      <th>186</th>\n",
       "      <td>2016</td>\n",
       "      <td>1679</td>\n",
       "    </tr>\n",
       "  </tbody>\n",
       "</table>\n",
       "</div>"
      ],
      "text/plain": [
       "     Year  Suicide\n",
       "187  2014     1700\n",
       "157  2015     1652\n",
       "186  2016     1679"
      ]
     },
     "execution_count": 18,
     "metadata": {},
     "output_type": "execute_result"
    }
   ],
   "source": [
    "data = suc_ny_data.sort_values(by=['Year']).tail(3)\n",
    "data.drop(['State', 'Cause Name'], axis = 1, inplace = True)\n",
    "data.rename(columns={ data.columns[1]: \"Suicide\"}, inplace=True)\n",
    "data"
   ]
  },
  {
   "cell_type": "code",
   "execution_count": 19,
   "metadata": {},
   "outputs": [
    {
     "ename": "NameError",
     "evalue": "name 'top5_deaths' is not defined",
     "output_type": "error",
     "traceback": [
      "\u001b[1;31m---------------------------------------------------------------------------\u001b[0m",
      "\u001b[1;31mNameError\u001b[0m                                 Traceback (most recent call last)",
      "\u001b[1;32m<ipython-input-19-2bc246c76d4d>\u001b[0m in \u001b[0;36m<module>\u001b[1;34m\u001b[0m\n\u001b[1;32m----> 1\u001b[1;33m \u001b[0mall_data\u001b[0m \u001b[1;33m=\u001b[0m \u001b[0mpd\u001b[0m\u001b[1;33m.\u001b[0m\u001b[0mmerge\u001b[0m\u001b[1;33m(\u001b[0m\u001b[0mdata\u001b[0m\u001b[1;33m,\u001b[0m \u001b[0mtop5_deaths\u001b[0m\u001b[1;33m,\u001b[0m \u001b[1;34m'left'\u001b[0m\u001b[1;33m,\u001b[0m \u001b[0mon\u001b[0m \u001b[1;33m=\u001b[0m \u001b[1;33m[\u001b[0m\u001b[1;34m\"Year\"\u001b[0m\u001b[1;33m]\u001b[0m \u001b[1;33m)\u001b[0m\u001b[1;33m\u001b[0m\u001b[1;33m\u001b[0m\u001b[0m\n\u001b[0m\u001b[0;32m      2\u001b[0m \u001b[0mall_data\u001b[0m\u001b[1;33m.\u001b[0m\u001b[0mset_index\u001b[0m\u001b[1;33m(\u001b[0m\u001b[1;33m[\u001b[0m\u001b[1;34m'Year'\u001b[0m\u001b[1;33m]\u001b[0m\u001b[1;33m,\u001b[0m \u001b[0minplace\u001b[0m\u001b[1;33m=\u001b[0m\u001b[1;32mTrue\u001b[0m\u001b[1;33m)\u001b[0m\u001b[1;33m\u001b[0m\u001b[1;33m\u001b[0m\u001b[0m\n\u001b[0;32m      3\u001b[0m \u001b[0mall_data\u001b[0m\u001b[1;33m.\u001b[0m\u001b[0mtail\u001b[0m\u001b[1;33m(\u001b[0m\u001b[1;36m3\u001b[0m\u001b[1;33m)\u001b[0m\u001b[1;33m\u001b[0m\u001b[1;33m\u001b[0m\u001b[0m\n",
      "\u001b[1;31mNameError\u001b[0m: name 'top5_deaths' is not defined"
     ]
    }
   ],
   "source": [
    "all_data = pd.merge(data, top5_deaths, 'left', on = [\"Year\"] )\n",
    "all_data.set_index(['Year'], inplace=True)\n",
    "all_data.tail(3)"
   ]
  },
  {
   "cell_type": "code",
   "execution_count": null,
   "metadata": {},
   "outputs": [],
   "source": [
    "f = plt.figure()\n",
    "plt.title('Deaths per Year in New York', color='black')\n",
    "all_data.plot(kind='bar', ax=f.gca())\n",
    "plt.legend(loc='center left', bbox_to_anchor=(1, 0.5))\n",
    "plt.show()"
   ]
  },
  {
   "cell_type": "code",
   "execution_count": null,
   "metadata": {},
   "outputs": [],
   "source": [
    "suc_data = data.copy()\n",
    "suc_data['Cause Name'] = 'Suicide'\n",
    "suc_data.rename(columns={ data.columns[1]: \"Deaths\"}, inplace=True)\n",
    "suc_data.reset_index()\n",
    "frames = [result, suc_data]\n",
    "dd = pd.concat(frames, sort=False)\n",
    "dd2016 = dd[dd['Year'] == 2016]\n",
    "dd2016"
   ]
  },
  {
   "cell_type": "code",
   "execution_count": null,
   "metadata": {},
   "outputs": [],
   "source": [
    "labels = ['Heart Disease', 'Cancer','Accidents','COPD','Stroke','Flu','Diabetes','Alzheimer','Septis','Hypertension','Suicide']\n",
    "dd2016.plot(kind='pie', y='Deaths', autopct='%.2f', fontsize=10, labels=labels, explode=(0,0,0,0,0,0,0,0,0,0,0.5), legend=False)\n",
    "plt.tight_layout()\n",
    "plt.show()"
   ]
  },
  {
   "cell_type": "markdown",
   "metadata": {},
   "source": [
    "At %1.42 of the total deaths for 2016, Suicide is a small fraction of the total death rate in New York.  "
   ]
  }
 ],
 "metadata": {
  "kernelspec": {
   "display_name": "Python 3",
   "language": "python",
   "name": "python3"
  },
  "language_info": {
   "codemirror_mode": {
    "name": "ipython",
    "version": 3
   },
   "file_extension": ".py",
   "mimetype": "text/x-python",
   "name": "python",
   "nbconvert_exporter": "python",
   "pygments_lexer": "ipython3",
   "version": "3.7.1"
  }
 },
 "nbformat": 4,
 "nbformat_minor": 2
}
